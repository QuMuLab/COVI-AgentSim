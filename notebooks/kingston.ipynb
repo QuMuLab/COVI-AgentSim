{
 "cells": [
  {
   "cell_type": "markdown",
   "metadata": {
    "collapsed": true
   },
   "source": [
    "    In this notebook, I'd like to take some time to explore the parameters that we will use to model Kingston."
   ]
  },
  {
   "cell_type": "code",
   "execution_count": 31,
   "metadata": {},
   "outputs": [
    {
     "data": {
      "text/plain": [
       "110"
      ]
     },
     "execution_count": 31,
     "metadata": {},
     "output_type": "execute_result"
    }
   ],
   "source": [
    "import yaml\n",
    "import os\n",
    "\n",
    "config_dict = {}\n",
    "\n",
    "with open(os.path.abspath(\"C:/Users/muise/IdeaProjects/COVI-AgentSim/src/covid19sim/configs/simulation/region/montreal.yaml\")) as config_file:\n",
    "    config_dict = yaml.load(config_file, Loader=yaml.FullLoader)\n",
    "    \n",
    "len(config_dict)"
   ]
  },
  {
   "cell_type": "code",
   "execution_count": null,
   "outputs": [],
   "source": [
    "[k for k in config_dict.keys()]"
   ],
   "metadata": {
    "collapsed": false,
    "pycharm": {
     "name": "#%%\n"
    }
   }
  },
  {
   "cell_type": "code",
   "execution_count": null,
   "outputs": [],
   "source": [
    "config_dict['P_AGE_REGION']"
   ],
   "metadata": {
    "collapsed": false,
    "pycharm": {
     "name": "#%%\n"
    }
   }
  },
  {
   "cell_type": "code",
   "execution_count": null,
   "outputs": [],
   "source": [
    "import pandas"
   ],
   "metadata": {
    "collapsed": false,
    "pycharm": {
     "name": "#%%\n"
    }
   }
  },
  {
   "cell_type": "code",
   "execution_count": 29,
   "metadata": {},
   "outputs": [
    {
     "data": {
      "text/plain": [
       "['POPULATION_SIZE_REGION',\n",
       " 'P_AGE_REGION',\n",
       " 'AVERAGE_AGE_REGION',\n",
       " 'MEDIAN_AGE_REGION',\n",
       " 'AVG_HOUSEHOLD_SIZE',\n",
       " 'P_HOUSEHOLD_SIZE',\n",
       " 'N_HOUSESIZE_1',\n",
       " 'P_FAMILY_TYPE_SIZE_2',\n",
       " 'P_FAMILY_TYPE_SIZE_3',\n",
       " 'P_FAMILY_TYPE_SIZE_4',\n",
       " 'P_FAMILY_TYPE_SIZE_MORE_THAN_5',\n",
       " 'P_MULTIGENERATIONAL_FAMILY',\n",
       " 'P_MULTIGENERTIONAL_FAMILY_GIVEN_OTHER_HOUSEHOLDS',\n",
       " 'N_COLLECTIVE_RESIDENTS',\n",
       " 'N_COLLECTIVE_RESIDENTS_65_79',\n",
       " 'N_COLLECTIVE_RESIDENTS_80_above',\n",
       " 'MAX_AGE_CHILDREN',\n",
       " 'MAX_AGE_WITH_PARENT',\n",
       " 'AGE_DIFFERENCE_BETWEEN_PARENT_AND_KID',\n",
       " 'N_RESIDENTS_PER_COLLECTIVE',\n",
       " 'P_EMPLOYEES_1_4_PER_WORKPLACE',\n",
       " 'P_EMPLOYEES_5_99_PER_WORKPLACE',\n",
       " 'P_EMPLOYEES_100_499_PER_WORKPLACE',\n",
       " 'P_EMPLOYEES_500_above_PER_WORKPLACE',\n",
       " 'AVERAGE_N_EMPLOYEES_PER_WORKPLACE',\n",
       " 'P_EMPLOYEES_1_4_PER_STORE',\n",
       " 'P_EMPLOYEES_5_99_PER_STORE',\n",
       " 'P_EMPLOYEES_100_499_PER_STORE',\n",
       " 'P_EMPLOYEES_500_above_PER_STORE',\n",
       " 'AVERAGE_N_EMPLOYEES_PER_STORE',\n",
       " 'N_STORE_PER_1K_PEOPLE',\n",
       " 'P_EMPLOYEES_1_4_PER_MISC',\n",
       " 'P_EMPLOYEES_5_99_PER_MISC',\n",
       " 'P_EMPLOYEES_100_499_PER_MISC',\n",
       " 'P_EMPLOYEES_500_above_PER_MISC',\n",
       " 'AVERAGE_N_EMPLOYEES_PER_MISC',\n",
       " 'N_MISC_PER_1K_PEOPLE',\n",
       " 'N_STUDENTS_PER_SCHOOL_2_4',\n",
       " 'N_STUDENTS_PER_SCHOOL_4_5',\n",
       " 'N_STUDENTS_PER_SCHOOL_5_12',\n",
       " 'N_STUDENTS_PER_SCHOOL_12_17',\n",
       " 'N_STUDENTS_PER_SCHOOL_17_29',\n",
       " 'P_SCHOOL_FOR_AGE_17_19',\n",
       " 'P_SCHOOL_FOR_AGE_19_24',\n",
       " 'P_SCHOOL_FOR_AGE_25_29',\n",
       " 'STUDENT_TEACHER_RATIO_SCHOOL_2_4',\n",
       " 'STUDENT_TEACHER_RATIO_SCHOOL_4_5',\n",
       " 'STUDENT_TEACHER_RATIO_SCHOOL_5_12',\n",
       " 'STUDENT_TEACHER_RATIO_SCHOOL_12_17',\n",
       " 'STUDENT_TEACHER_RATIO_SCHOOL_17_29',\n",
       " 'P_STUDENT_4_5',\n",
       " 'P_STUDENT_2_4',\n",
       " 'N_HOSPITALS_PER_100K_PEOPLE',\n",
       " 'HOSPITAL_BEDS_OCCUPANCY',\n",
       " 'HOSPITAL_BEDS_PER_1K_PEOPLE',\n",
       " 'ICU_BEDS_PER_1K_PEOPLE',\n",
       " 'ICU_BEDS_OCCUPANCY',\n",
       " 'P_HEALTHCARE_WORKERS',\n",
       " 'NURSE_TO_DOCTOR_RATIO',\n",
       " 'N_DOCTOR_PER_100K_PEOPLE',\n",
       " 'RESIDENT_TO_STAFF_RATIO',\n",
       " 'MIN_AGE_HEALTHCARE_WORKER',\n",
       " 'MAX_AGE_HEALTHCARE_WORKER',\n",
       " 'MIN_WORKING_AGE',\n",
       " 'MAX_WORKING_AGE',\n",
       " 'MAX_AGE_CHILDREN_WITHOUT_PARENT_SUPERVISION',\n",
       " 'P_GROCERY_SHOPPING_DAYS',\n",
       " 'P_SOCIALIZE_DAYS',\n",
       " 'P_EXERCISE_DAYS',\n",
       " 'AVERAGE_TIME_SPENT_GROCERY',\n",
       " 'AVERAGE_TIME_SPENT_SOCIALIZING',\n",
       " 'AVERAGE_TIME_SPENT_EXERCISING',\n",
       " 'AVERAGE_TIME_SPENT_WORK',\n",
       " 'P_AGE_SOLO_DWELLERS_GIVEN_HOUSESIZE_1_MORE_ACCURATE',\n",
       " 'WORKPLACE_MEAN_DAILY_INTERACTIONS',\n",
       " 'OTHER_MEAN_DAILY_INTERACTIONS',\n",
       " 'HOUSEHOLD_MEAN_DAILY_INTERACTIONS',\n",
       " 'SCHOOL_MEAN_DAILY_INTERACTIONS',\n",
       " 'HOSPITAL_MEAN_DAILY_INTERACTIONS',\n",
       " 'LOCKDOWN_FRACTION_REDUCTION_IN_CONTACTS_AT_HOUSEHOLD',\n",
       " 'LOCKDOWN_FRACTION_REDUCTION_IN_CONTACTS_AT_WORKPLACE',\n",
       " 'LOCKDOWN_FRACTION_REDUCTION_IN_CONTACTS_AT_OTHERS',\n",
       " 'LOCKDOWN_FRACTION_REDUCTION_IN_CONTACTS_AT_HOSPITAL',\n",
       " 'P_AGE_SOLO_DWELLERS_GIVEN_HOUSESIZE_1',\n",
       " 'P_COLLECTIVE',\n",
       " 'P_COLLECTIVE_65_69',\n",
       " 'P_COLLECTIVE_70_74',\n",
       " 'P_COLLECTIVE_75_above',\n",
       " 'ADJUSTED_CONTACT_MATRIX_HOUSEHOLD',\n",
       " 'ADJUSTED_CONTACT_MATRIX_WORKPLACE',\n",
       " 'ADJUSTED_CONTACT_MATRIX_SCHOOL',\n",
       " 'ADJUSTED_CONTACT_MATRIX_OTHER',\n",
       " 'ADJUSTED_CONTACT_MATRIX_ALL',\n",
       " 'P_CONTACT_MATRIX_HOUSEHOLD',\n",
       " 'P_CONTACT_MATRIX_WORKPLACE',\n",
       " 'P_CONTACT_MATRIX_SCHOOL',\n",
       " 'P_CONTACT_MATRIX_OTHER',\n",
       " 'P_CONTACT_MATRIX_ALL',\n",
       " 'CONTACT_DURATION_GAMMA_SCALE_MATRIX',\n",
       " 'CONTACT_DURATION_GAMMA_SHAPE_MATRIX',\n",
       " 'CONTACT_DURATION_NORMAL_MEAN_SECONDS_MATRIX',\n",
       " 'CONTACT_DURATION_NORMAL_SIGMA_SECONDS_MATRIX',\n",
       " 'HOUSEHOLD_CONTACT_DURATION_NORMAL_MEAN_SECONDS_MATRIX',\n",
       " 'HOUSEHOLD_CONTACT_DURATION_NORMAL_SIGMA_SECONDS_MATRIX',\n",
       " 'SCHOOL_CONTACT_DURATION_NORMAL_MEAN_SECONDS_MATRIX',\n",
       " 'SCHOOL_CONTACT_DURATION_NORMAL_SIGMA_SECONDS_MATRIX',\n",
       " 'WORKPLACE_CONTACT_DURATION_NORMAL_MEAN_SECONDS_MATRIX',\n",
       " 'WORKPLACE_CONTACT_DURATION_NORMAL_SIGMA_SECONDS_MATRIX',\n",
       " 'OTHER_CONTACT_DURATION_NORMAL_MEAN_SECONDS_MATRIX',\n",
       " 'OTHER_CONTACT_DURATION_NORMAL_SIGMA_SECONDS_MATRIX']"
      ]
     },
     "execution_count": 29,
     "metadata": {},
     "output_type": "execute_result"
    }
   ],
   "source": []
  },
  {
   "cell_type": "code",
   "execution_count": 32,
   "metadata": {},
   "outputs": [
    {
     "data": {
      "text/plain": [
       "[[0, 4, 0.057],\n",
       " [5, 9, 0.054],\n",
       " [10, 14, 0.047],\n",
       " [15, 19, 0.05],\n",
       " [20, 24, 0.072],\n",
       " [25, 29, 0.079],\n",
       " [30, 34, 0.078],\n",
       " [35, 39, 0.076],\n",
       " [40, 44, 0.066],\n",
       " [45, 49, 0.065],\n",
       " [50, 54, 0.068],\n",
       " [55, 59, 0.065],\n",
       " [60, 64, 0.057],\n",
       " [65, 69, 0.049],\n",
       " [70, 74, 0.037],\n",
       " [75, 110, 0.08]]"
      ]
     },
     "execution_count": 32,
     "metadata": {},
     "output_type": "execute_result"
    }
   ],
   "source": [
    "config_dict['P_AGE_REGION']"
   ]
  },
  {
   "cell_type": "code",
   "execution_count": 34,
   "metadata": {},
   "outputs": [
    {
     "ename": "RuntimeError",
     "evalue": "The current Numpy installation ('C:\\\\Users\\\\muise\\\\miniconda3\\\\envs\\\\COVI-AgentSim\\\\lib\\\\site-packages\\\\numpy\\\\__init__.py') fails to pass a sanity check due to a bug in the windows runtime. See this issue for more information: https://tinyurl.com/y3dm3h86",
     "output_type": "error",
     "traceback": [
      "\u001B[1;31m---------------------------------------------------------------------------\u001B[0m",
      "\u001B[1;31mRuntimeError\u001B[0m                              Traceback (most recent call last)",
      "\u001B[1;32m<ipython-input-34-38d4b0363d82>\u001B[0m in \u001B[0;36m<module>\u001B[1;34m\u001B[0m\n\u001B[1;32m----> 1\u001B[1;33m \u001B[1;32mimport\u001B[0m \u001B[0mpandas\u001B[0m\u001B[1;33m\u001B[0m\u001B[1;33m\u001B[0m\u001B[0m\n\u001B[0m",
      "\u001B[1;32m~\\miniconda3\\envs\\COVI-AgentSim\\lib\\site-packages\\pandas\\__init__.py\u001B[0m in \u001B[0;36m<module>\u001B[1;34m\u001B[0m\n\u001B[0;32m      9\u001B[0m \u001B[1;32mfor\u001B[0m \u001B[0mdependency\u001B[0m \u001B[1;32min\u001B[0m \u001B[0mhard_dependencies\u001B[0m\u001B[1;33m:\u001B[0m\u001B[1;33m\u001B[0m\u001B[1;33m\u001B[0m\u001B[0m\n\u001B[0;32m     10\u001B[0m     \u001B[1;32mtry\u001B[0m\u001B[1;33m:\u001B[0m\u001B[1;33m\u001B[0m\u001B[1;33m\u001B[0m\u001B[0m\n\u001B[1;32m---> 11\u001B[1;33m         \u001B[0m__import__\u001B[0m\u001B[1;33m(\u001B[0m\u001B[0mdependency\u001B[0m\u001B[1;33m)\u001B[0m\u001B[1;33m\u001B[0m\u001B[1;33m\u001B[0m\u001B[0m\n\u001B[0m\u001B[0;32m     12\u001B[0m     \u001B[1;32mexcept\u001B[0m \u001B[0mImportError\u001B[0m \u001B[1;32mas\u001B[0m \u001B[0me\u001B[0m\u001B[1;33m:\u001B[0m\u001B[1;33m\u001B[0m\u001B[1;33m\u001B[0m\u001B[0m\n\u001B[0;32m     13\u001B[0m         \u001B[0mmissing_dependencies\u001B[0m\u001B[1;33m.\u001B[0m\u001B[0mappend\u001B[0m\u001B[1;33m(\u001B[0m\u001B[1;34mf\"{dependency}: {e}\"\u001B[0m\u001B[1;33m)\u001B[0m\u001B[1;33m\u001B[0m\u001B[1;33m\u001B[0m\u001B[0m\n",
      "\u001B[1;32m~\\miniconda3\\envs\\COVI-AgentSim\\lib\\site-packages\\numpy\\__init__.py\u001B[0m in \u001B[0;36m<module>\u001B[1;34m\u001B[0m\n\u001B[0;32m    303\u001B[0m \u001B[1;33m\u001B[0m\u001B[0m\n\u001B[0;32m    304\u001B[0m     \u001B[1;32mif\u001B[0m \u001B[0msys\u001B[0m\u001B[1;33m.\u001B[0m\u001B[0mplatform\u001B[0m \u001B[1;33m==\u001B[0m \u001B[1;34m\"win32\"\u001B[0m \u001B[1;32mand\u001B[0m \u001B[0msys\u001B[0m\u001B[1;33m.\u001B[0m\u001B[0mmaxsize\u001B[0m \u001B[1;33m>\u001B[0m \u001B[1;36m2\u001B[0m\u001B[1;33m**\u001B[0m\u001B[1;36m32\u001B[0m\u001B[1;33m:\u001B[0m\u001B[1;33m\u001B[0m\u001B[1;33m\u001B[0m\u001B[0m\n\u001B[1;32m--> 305\u001B[1;33m         \u001B[0m_win_os_check\u001B[0m\u001B[1;33m(\u001B[0m\u001B[1;33m)\u001B[0m\u001B[1;33m\u001B[0m\u001B[1;33m\u001B[0m\u001B[0m\n\u001B[0m\u001B[0;32m    306\u001B[0m \u001B[1;33m\u001B[0m\u001B[0m\n\u001B[0;32m    307\u001B[0m     \u001B[1;32mdel\u001B[0m \u001B[0m_win_os_check\u001B[0m\u001B[1;33m\u001B[0m\u001B[1;33m\u001B[0m\u001B[0m\n",
      "\u001B[1;32m~\\miniconda3\\envs\\COVI-AgentSim\\lib\\site-packages\\numpy\\__init__.py\u001B[0m in \u001B[0;36m_win_os_check\u001B[1;34m()\u001B[0m\n\u001B[0;32m    300\u001B[0m                    \u001B[1;34m\"See this issue for more information: \"\u001B[0m\u001B[1;33m\u001B[0m\u001B[1;33m\u001B[0m\u001B[0m\n\u001B[0;32m    301\u001B[0m                    \"https://tinyurl.com/y3dm3h86\")\n\u001B[1;32m--> 302\u001B[1;33m             \u001B[1;32mraise\u001B[0m \u001B[0mRuntimeError\u001B[0m\u001B[1;33m(\u001B[0m\u001B[0mmsg\u001B[0m\u001B[1;33m.\u001B[0m\u001B[0mformat\u001B[0m\u001B[1;33m(\u001B[0m\u001B[0m__file__\u001B[0m\u001B[1;33m)\u001B[0m\u001B[1;33m)\u001B[0m \u001B[1;32mfrom\u001B[0m \u001B[1;32mNone\u001B[0m\u001B[1;33m\u001B[0m\u001B[1;33m\u001B[0m\u001B[0m\n\u001B[0m\u001B[0;32m    303\u001B[0m \u001B[1;33m\u001B[0m\u001B[0m\n\u001B[0;32m    304\u001B[0m     \u001B[1;32mif\u001B[0m \u001B[0msys\u001B[0m\u001B[1;33m.\u001B[0m\u001B[0mplatform\u001B[0m \u001B[1;33m==\u001B[0m \u001B[1;34m\"win32\"\u001B[0m \u001B[1;32mand\u001B[0m \u001B[0msys\u001B[0m\u001B[1;33m.\u001B[0m\u001B[0mmaxsize\u001B[0m \u001B[1;33m>\u001B[0m \u001B[1;36m2\u001B[0m\u001B[1;33m**\u001B[0m\u001B[1;36m32\u001B[0m\u001B[1;33m:\u001B[0m\u001B[1;33m\u001B[0m\u001B[1;33m\u001B[0m\u001B[0m\n",
      "\u001B[1;31mRuntimeError\u001B[0m: The current Numpy installation ('C:\\\\Users\\\\muise\\\\miniconda3\\\\envs\\\\COVI-AgentSim\\\\lib\\\\site-packages\\\\numpy\\\\__init__.py') fails to pass a sanity check due to a bug in the windows runtime. See this issue for more information: https://tinyurl.com/y3dm3h86"
     ]
    }
   ],
   "source": [
    "import pandas"
   ]
  },
  {
   "cell_type": "code",
   "execution_count": null,
   "metadata": {},
   "outputs": [],
   "source": []
  }
 ],
 "metadata": {
  "kernelspec": {
   "display_name": "Python 3",
   "language": "python",
   "name": "python3"
  },
  "language_info": {
   "codemirror_mode": {
    "name": "ipython",
    "version": 3
   },
   "file_extension": ".py",
   "mimetype": "text/x-python",
   "name": "python",
   "nbconvert_exporter": "python",
   "pygments_lexer": "ipython3",
   "version": "3.8.5"
  }
 },
 "nbformat": 4,
 "nbformat_minor": 1
}