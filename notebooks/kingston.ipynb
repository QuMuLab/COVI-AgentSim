{
 "cells": [
  {
   "cell_type": "markdown",
   "metadata": {
    "collapsed": true
   },
   "source": [
    "    In this notebook, I'd like to take some time to explore the parameters that we will use to model Kingston."
   ]
  },
  {
   "cell_type": "code",
   "execution_count": 1,
   "metadata": {},
   "outputs": [
    {
     "data": {
      "text/plain": [
       "110"
      ]
     },
     "execution_count": 1,
     "metadata": {},
     "output_type": "execute_result"
    }
   ],
   "source": [
    "import yaml\n",
    "import os\n",
    "\n",
    "project_root = os.path.dirname(os.path.dirname(os.path.abspath(\"kingston.ipynb\")))\n",
    "\n",
    "config_dir = os.path.join('src', \n",
    "                                'covid19sim', \n",
    "                                'configs', \n",
    "                                'simulation', \n",
    "                                'region')\n",
    "\n",
    "montreal_path = os.path.join(project_root, config_dir, 'montreal.yaml')\n",
    "\n",
    "montreal_dict = {}\n",
    "\n",
    "with open(os.path.abspath(montreal_path)) as f:\n",
    "    montreal_dict = yaml.load(f, Loader=yaml.FullLoader)\n",
    "    \n",
    "len(montreal_dict)"
   ]
  },
  {
   "cell_type": "code",
   "execution_count": 63,
   "metadata": {
    "pycharm": {
     "name": "#%%\n"
    }
   },
   "outputs": [
    {
     "data": {
      "text/plain": [
       "['POPULATION_SIZE_REGION',\n",
       " 'P_AGE_REGION',\n",
       " 'AVERAGE_AGE_REGION',\n",
       " 'MEDIAN_AGE_REGION',\n",
       " 'AVG_HOUSEHOLD_SIZE',\n",
       " 'P_HOUSEHOLD_SIZE',\n",
       " 'N_HOUSESIZE_1',\n",
       " 'P_FAMILY_TYPE_SIZE_2',\n",
       " 'P_FAMILY_TYPE_SIZE_3',\n",
       " 'P_FAMILY_TYPE_SIZE_4',\n",
       " 'P_FAMILY_TYPE_SIZE_MORE_THAN_5',\n",
       " 'P_MULTIGENERATIONAL_FAMILY',\n",
       " 'P_MULTIGENERTIONAL_FAMILY_GIVEN_OTHER_HOUSEHOLDS',\n",
       " 'N_COLLECTIVE_RESIDENTS',\n",
       " 'N_COLLECTIVE_RESIDENTS_65_79',\n",
       " 'N_COLLECTIVE_RESIDENTS_80_above',\n",
       " 'MAX_AGE_CHILDREN',\n",
       " 'MAX_AGE_WITH_PARENT',\n",
       " 'AGE_DIFFERENCE_BETWEEN_PARENT_AND_KID',\n",
       " 'N_RESIDENTS_PER_COLLECTIVE',\n",
       " 'P_EMPLOYEES_1_4_PER_WORKPLACE',\n",
       " 'P_EMPLOYEES_5_99_PER_WORKPLACE',\n",
       " 'P_EMPLOYEES_100_499_PER_WORKPLACE',\n",
       " 'P_EMPLOYEES_500_above_PER_WORKPLACE',\n",
       " 'AVERAGE_N_EMPLOYEES_PER_WORKPLACE',\n",
       " 'P_EMPLOYEES_1_4_PER_STORE',\n",
       " 'P_EMPLOYEES_5_99_PER_STORE',\n",
       " 'P_EMPLOYEES_100_499_PER_STORE',\n",
       " 'P_EMPLOYEES_500_above_PER_STORE',\n",
       " 'AVERAGE_N_EMPLOYEES_PER_STORE',\n",
       " 'N_STORE_PER_1K_PEOPLE',\n",
       " 'P_EMPLOYEES_1_4_PER_MISC',\n",
       " 'P_EMPLOYEES_5_99_PER_MISC',\n",
       " 'P_EMPLOYEES_100_499_PER_MISC',\n",
       " 'P_EMPLOYEES_500_above_PER_MISC',\n",
       " 'AVERAGE_N_EMPLOYEES_PER_MISC',\n",
       " 'N_MISC_PER_1K_PEOPLE',\n",
       " 'N_STUDENTS_PER_SCHOOL_2_4',\n",
       " 'N_STUDENTS_PER_SCHOOL_4_5',\n",
       " 'N_STUDENTS_PER_SCHOOL_5_12',\n",
       " 'N_STUDENTS_PER_SCHOOL_12_17',\n",
       " 'N_STUDENTS_PER_SCHOOL_17_29',\n",
       " 'P_SCHOOL_FOR_AGE_17_19',\n",
       " 'P_SCHOOL_FOR_AGE_19_24',\n",
       " 'P_SCHOOL_FOR_AGE_25_29',\n",
       " 'STUDENT_TEACHER_RATIO_SCHOOL_2_4',\n",
       " 'STUDENT_TEACHER_RATIO_SCHOOL_4_5',\n",
       " 'STUDENT_TEACHER_RATIO_SCHOOL_5_12',\n",
       " 'STUDENT_TEACHER_RATIO_SCHOOL_12_17',\n",
       " 'STUDENT_TEACHER_RATIO_SCHOOL_17_29',\n",
       " 'P_STUDENT_4_5',\n",
       " 'P_STUDENT_2_4',\n",
       " 'N_HOSPITALS_PER_100K_PEOPLE',\n",
       " 'HOSPITAL_BEDS_OCCUPANCY',\n",
       " 'HOSPITAL_BEDS_PER_1K_PEOPLE',\n",
       " 'ICU_BEDS_PER_1K_PEOPLE',\n",
       " 'ICU_BEDS_OCCUPANCY',\n",
       " 'P_HEALTHCARE_WORKERS',\n",
       " 'NURSE_TO_DOCTOR_RATIO',\n",
       " 'N_DOCTOR_PER_100K_PEOPLE',\n",
       " 'RESIDENT_TO_STAFF_RATIO',\n",
       " 'MIN_AGE_HEALTHCARE_WORKER',\n",
       " 'MAX_AGE_HEALTHCARE_WORKER',\n",
       " 'MIN_WORKING_AGE',\n",
       " 'MAX_WORKING_AGE',\n",
       " 'MAX_AGE_CHILDREN_WITHOUT_PARENT_SUPERVISION',\n",
       " 'P_GROCERY_SHOPPING_DAYS',\n",
       " 'P_SOCIALIZE_DAYS',\n",
       " 'P_EXERCISE_DAYS',\n",
       " 'AVERAGE_TIME_SPENT_GROCERY',\n",
       " 'AVERAGE_TIME_SPENT_SOCIALIZING',\n",
       " 'AVERAGE_TIME_SPENT_EXERCISING',\n",
       " 'AVERAGE_TIME_SPENT_WORK',\n",
       " 'P_AGE_SOLO_DWELLERS_GIVEN_HOUSESIZE_1_MORE_ACCURATE',\n",
       " 'WORKPLACE_MEAN_DAILY_INTERACTIONS',\n",
       " 'OTHER_MEAN_DAILY_INTERACTIONS',\n",
       " 'HOUSEHOLD_MEAN_DAILY_INTERACTIONS',\n",
       " 'SCHOOL_MEAN_DAILY_INTERACTIONS',\n",
       " 'HOSPITAL_MEAN_DAILY_INTERACTIONS',\n",
       " 'LOCKDOWN_FRACTION_REDUCTION_IN_CONTACTS_AT_HOUSEHOLD',\n",
       " 'LOCKDOWN_FRACTION_REDUCTION_IN_CONTACTS_AT_WORKPLACE',\n",
       " 'LOCKDOWN_FRACTION_REDUCTION_IN_CONTACTS_AT_OTHERS',\n",
       " 'LOCKDOWN_FRACTION_REDUCTION_IN_CONTACTS_AT_HOSPITAL',\n",
       " 'P_AGE_SOLO_DWELLERS_GIVEN_HOUSESIZE_1',\n",
       " 'P_COLLECTIVE',\n",
       " 'P_COLLECTIVE_65_69',\n",
       " 'P_COLLECTIVE_70_74',\n",
       " 'P_COLLECTIVE_75_above',\n",
       " 'ADJUSTED_CONTACT_MATRIX_HOUSEHOLD',\n",
       " 'ADJUSTED_CONTACT_MATRIX_WORKPLACE',\n",
       " 'ADJUSTED_CONTACT_MATRIX_SCHOOL',\n",
       " 'ADJUSTED_CONTACT_MATRIX_OTHER',\n",
       " 'ADJUSTED_CONTACT_MATRIX_ALL',\n",
       " 'P_CONTACT_MATRIX_HOUSEHOLD',\n",
       " 'P_CONTACT_MATRIX_WORKPLACE',\n",
       " 'P_CONTACT_MATRIX_SCHOOL',\n",
       " 'P_CONTACT_MATRIX_OTHER',\n",
       " 'P_CONTACT_MATRIX_ALL',\n",
       " 'CONTACT_DURATION_GAMMA_SCALE_MATRIX',\n",
       " 'CONTACT_DURATION_GAMMA_SHAPE_MATRIX',\n",
       " 'CONTACT_DURATION_NORMAL_MEAN_SECONDS_MATRIX',\n",
       " 'CONTACT_DURATION_NORMAL_SIGMA_SECONDS_MATRIX',\n",
       " 'HOUSEHOLD_CONTACT_DURATION_NORMAL_MEAN_SECONDS_MATRIX',\n",
       " 'HOUSEHOLD_CONTACT_DURATION_NORMAL_SIGMA_SECONDS_MATRIX',\n",
       " 'SCHOOL_CONTACT_DURATION_NORMAL_MEAN_SECONDS_MATRIX',\n",
       " 'SCHOOL_CONTACT_DURATION_NORMAL_SIGMA_SECONDS_MATRIX',\n",
       " 'WORKPLACE_CONTACT_DURATION_NORMAL_MEAN_SECONDS_MATRIX',\n",
       " 'WORKPLACE_CONTACT_DURATION_NORMAL_SIGMA_SECONDS_MATRIX',\n",
       " 'OTHER_CONTACT_DURATION_NORMAL_MEAN_SECONDS_MATRIX',\n",
       " 'OTHER_CONTACT_DURATION_NORMAL_SIGMA_SECONDS_MATRIX']"
      ]
     },
     "execution_count": 63,
     "metadata": {},
     "output_type": "execute_result"
    }
   ],
   "source": [
    "[k for k in montreal_dict.keys()]"
   ]
  },
  {
   "cell_type": "code",
   "execution_count": 5,
   "metadata": {
    "pycharm": {
     "name": "#%%\n"
    },
    "scrolled": true
   },
   "outputs": [
    {
     "data": {
      "text/html": [
       "<div>\n",
       "<style scoped>\n",
       "    .dataframe tbody tr th:only-of-type {\n",
       "        vertical-align: middle;\n",
       "    }\n",
       "\n",
       "    .dataframe tbody tr th {\n",
       "        vertical-align: top;\n",
       "    }\n",
       "\n",
       "    .dataframe thead th {\n",
       "        text-align: right;\n",
       "    }\n",
       "</style>\n",
       "<table border=\"1\" class=\"dataframe\">\n",
       "  <thead>\n",
       "    <tr style=\"text-align: right;\">\n",
       "      <th></th>\n",
       "      <th>min</th>\n",
       "      <th>max</th>\n",
       "      <th>p</th>\n",
       "    </tr>\n",
       "  </thead>\n",
       "  <tbody>\n",
       "    <tr>\n",
       "      <th>0</th>\n",
       "      <td>0</td>\n",
       "      <td>4</td>\n",
       "      <td>0.057</td>\n",
       "    </tr>\n",
       "    <tr>\n",
       "      <th>1</th>\n",
       "      <td>5</td>\n",
       "      <td>9</td>\n",
       "      <td>0.054</td>\n",
       "    </tr>\n",
       "    <tr>\n",
       "      <th>2</th>\n",
       "      <td>10</td>\n",
       "      <td>14</td>\n",
       "      <td>0.047</td>\n",
       "    </tr>\n",
       "    <tr>\n",
       "      <th>3</th>\n",
       "      <td>15</td>\n",
       "      <td>19</td>\n",
       "      <td>0.050</td>\n",
       "    </tr>\n",
       "    <tr>\n",
       "      <th>4</th>\n",
       "      <td>20</td>\n",
       "      <td>24</td>\n",
       "      <td>0.072</td>\n",
       "    </tr>\n",
       "    <tr>\n",
       "      <th>5</th>\n",
       "      <td>25</td>\n",
       "      <td>29</td>\n",
       "      <td>0.079</td>\n",
       "    </tr>\n",
       "    <tr>\n",
       "      <th>6</th>\n",
       "      <td>30</td>\n",
       "      <td>34</td>\n",
       "      <td>0.078</td>\n",
       "    </tr>\n",
       "    <tr>\n",
       "      <th>7</th>\n",
       "      <td>35</td>\n",
       "      <td>39</td>\n",
       "      <td>0.076</td>\n",
       "    </tr>\n",
       "    <tr>\n",
       "      <th>8</th>\n",
       "      <td>40</td>\n",
       "      <td>44</td>\n",
       "      <td>0.066</td>\n",
       "    </tr>\n",
       "    <tr>\n",
       "      <th>9</th>\n",
       "      <td>45</td>\n",
       "      <td>49</td>\n",
       "      <td>0.065</td>\n",
       "    </tr>\n",
       "    <tr>\n",
       "      <th>10</th>\n",
       "      <td>50</td>\n",
       "      <td>54</td>\n",
       "      <td>0.068</td>\n",
       "    </tr>\n",
       "    <tr>\n",
       "      <th>11</th>\n",
       "      <td>55</td>\n",
       "      <td>59</td>\n",
       "      <td>0.065</td>\n",
       "    </tr>\n",
       "    <tr>\n",
       "      <th>12</th>\n",
       "      <td>60</td>\n",
       "      <td>64</td>\n",
       "      <td>0.057</td>\n",
       "    </tr>\n",
       "    <tr>\n",
       "      <th>13</th>\n",
       "      <td>65</td>\n",
       "      <td>69</td>\n",
       "      <td>0.049</td>\n",
       "    </tr>\n",
       "    <tr>\n",
       "      <th>14</th>\n",
       "      <td>70</td>\n",
       "      <td>74</td>\n",
       "      <td>0.037</td>\n",
       "    </tr>\n",
       "    <tr>\n",
       "      <th>15</th>\n",
       "      <td>75</td>\n",
       "      <td>110</td>\n",
       "      <td>0.080</td>\n",
       "    </tr>\n",
       "  </tbody>\n",
       "</table>\n",
       "</div>"
      ],
      "text/plain": [
       "    min  max      p\n",
       "0     0    4  0.057\n",
       "1     5    9  0.054\n",
       "2    10   14  0.047\n",
       "3    15   19  0.050\n",
       "4    20   24  0.072\n",
       "5    25   29  0.079\n",
       "6    30   34  0.078\n",
       "7    35   39  0.076\n",
       "8    40   44  0.066\n",
       "9    45   49  0.065\n",
       "10   50   54  0.068\n",
       "11   55   59  0.065\n",
       "12   60   64  0.057\n",
       "13   65   69  0.049\n",
       "14   70   74  0.037\n",
       "15   75  110  0.080"
      ]
     },
     "execution_count": 5,
     "metadata": {},
     "output_type": "execute_result"
    }
   ],
   "source": [
    "import pandas as pd\n",
    "\n",
    "p_age_montreal_df = pd.DataFrame(montreal_dict['P_AGE_REGION'], columns=[\"min\", \"max\", \"p\"])\n",
    "\n",
    "p_age_montreal_df"
   ]
  },
  {
   "cell_type": "code",
   "execution_count": 51,
   "metadata": {},
   "outputs": [
    {
     "data": {
      "text/plain": [
       "<AxesSubplot:ylabel='Frequency'>"
      ]
     },
     "execution_count": 51,
     "metadata": {},
     "output_type": "execute_result"
    },
    {
     "data": {
      "image/png": "[encoded data removed]",
      "text/plain": [
       "<Figure size 432x288 with 1 Axes>"
      ]
     },
     "metadata": {
      "needs_background": "light"
     },
     "output_type": "display_data"
    }
   ],
   "source": [
    "from numpy.random import default_rng\n",
    "rng = default_rng()\n",
    "\n",
    "age_montreal_df = pd.DataFrame(\n",
    "    [rng.integers(p_age_montreal_df[\"min\"][idx], \n",
    "              p_age_montreal_df[\"max\"][idx]) for idx in \n",
    "    rng.choice(range(len(p_age_montreal_df)), \n",
    "           size=10000, \n",
    "           p=p_age_montreal_df[\"p\"])])\n",
    "\n",
    "age_montreal_df.plot.hist()"
   ]
  },
  {
   "cell_type": "markdown",
   "metadata": {},
   "source": [
    "I'd like to compare regional parameters for Montreal to the country-wide parameters for Canada used in the PHAC paper"
   ]
  },
  {
   "cell_type": "code",
   "execution_count": 6,
   "metadata": {},
   "outputs": [
    {
     "data": {
      "text/plain": [
       "110"
      ]
     },
     "execution_count": 6,
     "metadata": {},
     "output_type": "execute_result"
    }
   ],
   "source": [
    "canada_path = os.path.join(project_root, config_dir, 'canada.yaml')\n",
    "\n",
    "canada_dict = {}\n",
    "\n",
    "with open(os.path.abspath(canada_path)) as f:\n",
    "    canada_dict = yaml.load(f, Loader=yaml.FullLoader)\n",
    "    \n",
    "    len(canada_dict)"
   ]
  },
  {
   "cell_type": "code",
   "execution_count": 45,
   "metadata": {},
   "outputs": [
    {
     "data": {
      "text/html": [
       "<div>\n",
       "<style scoped>\n",
       "    .dataframe tbody tr th:only-of-type {\n",
       "        vertical-align: middle;\n",
       "    }\n",
       "\n",
       "    .dataframe tbody tr th {\n",
       "        vertical-align: top;\n",
       "    }\n",
       "\n",
       "    .dataframe thead th {\n",
       "        text-align: right;\n",
       "    }\n",
       "</style>\n",
       "<table border=\"1\" class=\"dataframe\">\n",
       "  <thead>\n",
       "    <tr style=\"text-align: right;\">\n",
       "      <th></th>\n",
       "      <th>min</th>\n",
       "      <th>max</th>\n",
       "      <th>proportion</th>\n",
       "    </tr>\n",
       "  </thead>\n",
       "  <tbody>\n",
       "    <tr>\n",
       "      <th>0</th>\n",
       "      <td>0</td>\n",
       "      <td>4</td>\n",
       "      <td>0.051695</td>\n",
       "    </tr>\n",
       "    <tr>\n",
       "      <th>1</th>\n",
       "      <td>5</td>\n",
       "      <td>9</td>\n",
       "      <td>0.054254</td>\n",
       "    </tr>\n",
       "    <tr>\n",
       "      <th>2</th>\n",
       "      <td>10</td>\n",
       "      <td>14</td>\n",
       "      <td>0.054052</td>\n",
       "    </tr>\n",
       "    <tr>\n",
       "      <th>3</th>\n",
       "      <td>15</td>\n",
       "      <td>19</td>\n",
       "      <td>0.056256</td>\n",
       "    </tr>\n",
       "    <tr>\n",
       "      <th>4</th>\n",
       "      <td>20</td>\n",
       "      <td>44</td>\n",
       "      <td>0.338052</td>\n",
       "    </tr>\n",
       "    <tr>\n",
       "      <th>5</th>\n",
       "      <td>45</td>\n",
       "      <td>54</td>\n",
       "      <td>0.130332</td>\n",
       "    </tr>\n",
       "    <tr>\n",
       "      <th>6</th>\n",
       "      <td>55</td>\n",
       "      <td>64</td>\n",
       "      <td>0.139970</td>\n",
       "    </tr>\n",
       "    <tr>\n",
       "      <th>7</th>\n",
       "      <td>65</td>\n",
       "      <td>74</td>\n",
       "      <td>0.101182</td>\n",
       "    </tr>\n",
       "    <tr>\n",
       "      <th>8</th>\n",
       "      <td>75</td>\n",
       "      <td>84</td>\n",
       "      <td>0.051903</td>\n",
       "    </tr>\n",
       "    <tr>\n",
       "      <th>9</th>\n",
       "      <td>85</td>\n",
       "      <td>110</td>\n",
       "      <td>0.022301</td>\n",
       "    </tr>\n",
       "  </tbody>\n",
       "</table>\n",
       "</div>"
      ],
      "text/plain": [
       "   min  max  proportion\n",
       "0    0    4    0.051695\n",
       "1    5    9    0.054254\n",
       "2   10   14    0.054052\n",
       "3   15   19    0.056256\n",
       "4   20   44    0.338052\n",
       "5   45   54    0.130332\n",
       "6   55   64    0.139970\n",
       "7   65   74    0.101182\n",
       "8   75   84    0.051903\n",
       "9   85  110    0.022301"
      ]
     },
     "execution_count": 45,
     "metadata": {},
     "output_type": "execute_result"
    }
   ],
   "source": [
    "p_age_canada_df = pd.DataFrame(canada_dict['P_AGE_REGION'], columns=[\"min\", \"max\", \"proportion\"])\n",
    "\n",
    "p_age_canada_df"
   ]
  },
  {
   "cell_type": "code",
   "execution_count": 46,
   "metadata": {},
   "outputs": [
    {
     "data": {
      "text/plain": [
       "0.02230399999999988"
      ]
     },
     "execution_count": 46,
     "metadata": {},
     "output_type": "execute_result"
    }
   ],
   "source": [
    "1 - sum(p_age_canada_df[\"proportion\"][0:9]) "
   ]
  },
  {
   "cell_type": "code",
   "execution_count": 47,
   "metadata": {},
   "outputs": [
    {
     "name": "stderr",
     "output_type": "stream",
     "text": [
      "<ipython-input-47-27207d204a4a>:2: SettingWithCopyWarning: \n",
      "A value is trying to be set on a copy of a slice from a DataFrame\n",
      "\n",
      "See the caveats in the documentation: https://pandas.pydata.org/pandas-docs/stable/user_guide/indexing.html#returning-a-view-versus-a-copy\n",
      "  p_age_canada_df[\"p\"][9] = 1 - sum(p_age_canada_df[\"proportion\"][0:9])\n"
     ]
    },
    {
     "data": {
      "text/html": [
       "<div>\n",
       "<style scoped>\n",
       "    .dataframe tbody tr th:only-of-type {\n",
       "        vertical-align: middle;\n",
       "    }\n",
       "\n",
       "    .dataframe tbody tr th {\n",
       "        vertical-align: top;\n",
       "    }\n",
       "\n",
       "    .dataframe thead th {\n",
       "        text-align: right;\n",
       "    }\n",
       "</style>\n",
       "<table border=\"1\" class=\"dataframe\">\n",
       "  <thead>\n",
       "    <tr style=\"text-align: right;\">\n",
       "      <th></th>\n",
       "      <th>min</th>\n",
       "      <th>max</th>\n",
       "      <th>proportion</th>\n",
       "      <th>p</th>\n",
       "    </tr>\n",
       "  </thead>\n",
       "  <tbody>\n",
       "    <tr>\n",
       "      <th>0</th>\n",
       "      <td>0</td>\n",
       "      <td>4</td>\n",
       "      <td>0.051695</td>\n",
       "      <td>0.051695</td>\n",
       "    </tr>\n",
       "    <tr>\n",
       "      <th>1</th>\n",
       "      <td>5</td>\n",
       "      <td>9</td>\n",
       "      <td>0.054254</td>\n",
       "      <td>0.054254</td>\n",
       "    </tr>\n",
       "    <tr>\n",
       "      <th>2</th>\n",
       "      <td>10</td>\n",
       "      <td>14</td>\n",
       "      <td>0.054052</td>\n",
       "      <td>0.054052</td>\n",
       "    </tr>\n",
       "    <tr>\n",
       "      <th>3</th>\n",
       "      <td>15</td>\n",
       "      <td>19</td>\n",
       "      <td>0.056256</td>\n",
       "      <td>0.056256</td>\n",
       "    </tr>\n",
       "    <tr>\n",
       "      <th>4</th>\n",
       "      <td>20</td>\n",
       "      <td>44</td>\n",
       "      <td>0.338052</td>\n",
       "      <td>0.338052</td>\n",
       "    </tr>\n",
       "    <tr>\n",
       "      <th>5</th>\n",
       "      <td>45</td>\n",
       "      <td>54</td>\n",
       "      <td>0.130332</td>\n",
       "      <td>0.130332</td>\n",
       "    </tr>\n",
       "    <tr>\n",
       "      <th>6</th>\n",
       "      <td>55</td>\n",
       "      <td>64</td>\n",
       "      <td>0.139970</td>\n",
       "      <td>0.139970</td>\n",
       "    </tr>\n",
       "    <tr>\n",
       "      <th>7</th>\n",
       "      <td>65</td>\n",
       "      <td>74</td>\n",
       "      <td>0.101182</td>\n",
       "      <td>0.101182</td>\n",
       "    </tr>\n",
       "    <tr>\n",
       "      <th>8</th>\n",
       "      <td>75</td>\n",
       "      <td>84</td>\n",
       "      <td>0.051903</td>\n",
       "      <td>0.051903</td>\n",
       "    </tr>\n",
       "    <tr>\n",
       "      <th>9</th>\n",
       "      <td>85</td>\n",
       "      <td>110</td>\n",
       "      <td>0.022301</td>\n",
       "      <td>0.022304</td>\n",
       "    </tr>\n",
       "  </tbody>\n",
       "</table>\n",
       "</div>"
      ],
      "text/plain": [
       "   min  max  proportion         p\n",
       "0    0    4    0.051695  0.051695\n",
       "1    5    9    0.054254  0.054254\n",
       "2   10   14    0.054052  0.054052\n",
       "3   15   19    0.056256  0.056256\n",
       "4   20   44    0.338052  0.338052\n",
       "5   45   54    0.130332  0.130332\n",
       "6   55   64    0.139970  0.139970\n",
       "7   65   74    0.101182  0.101182\n",
       "8   75   84    0.051903  0.051903\n",
       "9   85  110    0.022301  0.022304"
      ]
     },
     "execution_count": 47,
     "metadata": {},
     "output_type": "execute_result"
    }
   ],
   "source": [
    "p_age_canada_df[\"p\"] = p_age_canada_df[\"proportion\"]\n",
    "p_age_canada_df[\"p\"][9] = 1 - sum(p_age_canada_df[\"proportion\"][0:9]) \n",
    "p_age_canada_df"
   ]
  },
  {
   "cell_type": "code",
   "execution_count": 64,
   "metadata": {},
   "outputs": [
    {
     "data": {
      "text/plain": [
       "<AxesSubplot:title={'center':'Montreal'}, ylabel='Density'>"
      ]
     },
     "execution_count": 64,
     "metadata": {},
     "output_type": "execute_result"
    },
    {
     "data": {
      "image/png": "[encoded data removed]",
      "text/plain": [
       "<Figure size 432x288 with 1 Axes>"
      ]
     },
     "metadata": {
      "needs_background": "light"
     },
     "output_type": "display_data"
    },
    {
     "data": {
      "image/png": "[encoded data removed]",
      "text/plain": [
       "<Figure size 432x288 with 1 Axes>"
      ]
     },
     "metadata": {
      "needs_background": "light"
     },
     "output_type": "display_data"
    }
   ],
   "source": [
    "age_canada_df = pd.DataFrame(\n",
    "    [rng.integers(p_age_canada_df[\"min\"][idx], \n",
    "              p_age_canada_df[\"max\"][idx]) for idx in \n",
    "    rng.choice(range(len(p_age_canada_df)), \n",
    "           size=10000, \n",
    "           p=p_age_canada_df[\"p\"])])\n",
    "\n",
    "age_canada_df.plot.kde(title=\"Canada\", \n",
    "                       xlim=(0,110),\n",
    "                       ylim=(0,0.016),\n",
    "                      legend=False)\n",
    "\n",
    "age_montreal_df.plot.kde(title=\"Montreal\", \n",
    "                         xlim=(0,110),\n",
    "                         ylim=(0,0.016),\n",
    "                        legend=False)"
   ]
  },
  {
   "cell_type": "markdown",
   "metadata": {},
   "source": [
    "How does Kingston compare?"
   ]
  },
  {
   "cell_type": "code",
   "execution_count": 65,
   "metadata": {},
   "outputs": [
    {
     "data": {
      "text/plain": [
       "<AxesSubplot:title={'center':'Kingston'}, ylabel='Density'>"
      ]
     },
     "execution_count": 65,
     "metadata": {},
     "output_type": "execute_result"
    },
    {
     "data": {
      "image/png": "[encoded data removed]",
      "text/plain": [
       "<Figure size 432x288 with 1 Axes>"
      ]
     },
     "metadata": {
      "needs_background": "light"
     },
     "output_type": "display_data"
    }
   ],
   "source": [
    "kingston_path = os.path.join(project_root, config_dir, 'kingston.yaml')\n",
    "\n",
    "kingston_dict = {}\n",
    "\n",
    "with open(os.path.abspath(kingston_path)) as f:\n",
    "    kingston_dict = yaml.load(f, Loader=yaml.FullLoader)\n",
    "    \n",
    "p_age_kingston_df = pd.DataFrame(kingston_dict['P_AGE_REGION'], columns=[\"min\", \"max\", \"p\"])\n",
    "\n",
    "age_kingston_df = pd.DataFrame(\n",
    "    [rng.integers(p_age_kingston_df[\"min\"][idx], \n",
    "              p_age_kingston_df[\"max\"][idx]) for idx in \n",
    "    rng.choice(range(len(p_age_kingston_df)), \n",
    "           size=10000, \n",
    "           p=p_age_kingston_df[\"p\"])])\n",
    "\n",
    "age_kingston_df.plot.kde(title=\"Kingston\", \n",
    "                         xlim=(0,110),\n",
    "                         ylim=(0,0.016),\n",
    "                        legend=False)"
   ]
  },
  {
   "cell_type": "markdown",
   "metadata": {},
   "source": [
    "What is it about Kingston's unique demographics that could effect how Covid spreads?"
   ]
  },
  {
   "cell_type": "markdown",
   "metadata": {},
   "source": [
    "In this next section, we will look at mixing parameters."
   ]
  },
  {
   "cell_type": "code",
   "execution_count": 68,
   "metadata": {},
   "outputs": [
    {
     "data": {
      "text/html": [
       "<div>\n",
       "<style scoped>\n",
       "    .dataframe tbody tr th:only-of-type {\n",
       "        vertical-align: middle;\n",
       "    }\n",
       "\n",
       "    .dataframe tbody tr th {\n",
       "        vertical-align: top;\n",
       "    }\n",
       "\n",
       "    .dataframe thead th {\n",
       "        text-align: right;\n",
       "    }\n",
       "</style>\n",
       "<table border=\"1\" class=\"dataframe\">\n",
       "  <thead>\n",
       "    <tr style=\"text-align: right;\">\n",
       "      <th></th>\n",
       "      <th>two_parents</th>\n",
       "      <th>single_parents</th>\n",
       "      <th>not_a_family</th>\n",
       "    </tr>\n",
       "  </thead>\n",
       "  <tbody>\n",
       "    <tr>\n",
       "      <th>0</th>\n",
       "      <td>0.198</td>\n",
       "      <td>0.070</td>\n",
       "      <td>0.030</td>\n",
       "    </tr>\n",
       "    <tr>\n",
       "      <th>1</th>\n",
       "      <td>0.091</td>\n",
       "      <td>0.030</td>\n",
       "      <td>0.015</td>\n",
       "    </tr>\n",
       "    <tr>\n",
       "      <th>2</th>\n",
       "      <td>0.096</td>\n",
       "      <td>0.008</td>\n",
       "      <td>0.008</td>\n",
       "    </tr>\n",
       "    <tr>\n",
       "      <th>3</th>\n",
       "      <td>0.044</td>\n",
       "      <td>0.003</td>\n",
       "      <td>0.013</td>\n",
       "    </tr>\n",
       "  </tbody>\n",
       "</table>\n",
       "</div>"
      ],
      "text/plain": [
       "   two_parents  single_parents  not_a_family\n",
       "0        0.198           0.070         0.030\n",
       "1        0.091           0.030         0.015\n",
       "2        0.096           0.008         0.008\n",
       "3        0.044           0.003         0.013"
      ]
     },
     "execution_count": 68,
     "metadata": {},
     "output_type": "execute_result"
    }
   ],
   "source": [
    "p_family_type_df = pd.DataFrame([\n",
    "    montreal_dict[\"P_FAMILY_TYPE_SIZE_2\"],\n",
    "    montreal_dict[\"P_FAMILY_TYPE_SIZE_3\"],\n",
    "    montreal_dict[\"P_FAMILY_TYPE_SIZE_4\"],\n",
    "    montreal_dict[\"P_FAMILY_TYPE_SIZE_MORE_THAN_5\"],\n",
    "],\n",
    "    columns=(\"two_parents\", \"single_parents\", \"not_a_family\")\n",
    ")\n",
    "p_family_type_df"
   ]
  }
 ],
 "metadata": {
  "kernelspec": {
   "display_name": "Python 3",
   "language": "python",
   "name": "python3"
  },
  "language_info": {
   "codemirror_mode": {
    "name": "ipython",
    "version": 3
   },
   "file_extension": ".py",
   "mimetype": "text/x-python",
   "name": "python",
   "nbconvert_exporter": "python",
   "pygments_lexer": "ipython3",
   "version": "3.8.5"
  }
 },
 "nbformat": 4,
 "nbformat_minor": 1
}
