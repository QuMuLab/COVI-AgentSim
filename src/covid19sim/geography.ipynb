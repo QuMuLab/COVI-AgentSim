{
 "cells": [
  {
   "cell_type": "code",
   "execution_count": 6,
   "metadata": {},
   "outputs": [],
   "source": [
    "import mlflow"
   ]
  },
  {
   "cell_type": "code",
   "execution_count": 7,
   "metadata": {},
   "outputs": [
    {
     "name": "stderr",
     "output_type": "stream",
     "text": [
      "/home/paredes/miniconda/envs/try_simpy/lib/python3.8/site-packages/ipykernel/ipkernel.py:287: DeprecationWarning: `should_run_async` will not call `transform_cell` automatically in the future. Please pass the result to `transformed_cell` argument and any exception that happen during thetransform in `preprocessing_exc_tuple` in IPython 7.17 and above.\n",
      "  and should_run_async(code)\n"
     ]
    },
    {
     "data": {
      "text/html": [
       "<div>\n",
       "<style scoped>\n",
       "    .dataframe tbody tr th:only-of-type {\n",
       "        vertical-align: middle;\n",
       "    }\n",
       "\n",
       "    .dataframe tbody tr th {\n",
       "        vertical-align: top;\n",
       "    }\n",
       "\n",
       "    .dataframe thead th {\n",
       "        text-align: right;\n",
       "    }\n",
       "</style>\n",
       "<table border=\"1\" class=\"dataframe\">\n",
       "  <thead>\n",
       "    <tr style=\"text-align: right;\">\n",
       "      <th></th>\n",
       "      <th>run_id</th>\n",
       "      <th>experiment_id</th>\n",
       "      <th>status</th>\n",
       "      <th>artifact_uri</th>\n",
       "      <th>start_time</th>\n",
       "      <th>end_time</th>\n",
       "      <th>metrics.total_deaths</th>\n",
       "      <th>tags.mlflow.user</th>\n",
       "      <th>tags.mlflow.source.git.commit</th>\n",
       "      <th>tags.mlflow.source.name</th>\n",
       "      <th>tags.mlflow.source.type</th>\n",
       "      <th>tags.mlflow.note.content</th>\n",
       "    </tr>\n",
       "  </thead>\n",
       "  <tbody>\n",
       "    <tr>\n",
       "      <th>0</th>\n",
       "      <td>0e30bd4e207f4a81be64fdb48d0c96a3</td>\n",
       "      <td>0</td>\n",
       "      <td>RUNNING</td>\n",
       "      <td>file:///home/paredes/IdeaProjects/COVI-AgentSi...</td>\n",
       "      <td>2020-11-23 16:08:01.467000+00:00</td>\n",
       "      <td>NaT</td>\n",
       "      <td>0.0</td>\n",
       "      <td>paredes</td>\n",
       "      <td>8a8b9b5aa5ac4c13dd7220d856119e3916148622</td>\n",
       "      <td>/home/paredes/IdeaProjects/COVI-AgentSim/src/c...</td>\n",
       "      <td>LOCAL</td>\n",
       "      <td>I'm hoping a bigger population and longer tria...</td>\n",
       "    </tr>\n",
       "    <tr>\n",
       "      <th>1</th>\n",
       "      <td>1b14f29b0aa64a53be0762ec8f9a8c25</td>\n",
       "      <td>0</td>\n",
       "      <td>FINISHED</td>\n",
       "      <td>file:///home/paredes/IdeaProjects/COVI-AgentSi...</td>\n",
       "      <td>2020-11-23 15:56:07.175000+00:00</td>\n",
       "      <td>2020-11-23 15:57:43.842000+00:00</td>\n",
       "      <td>0.0</td>\n",
       "      <td>paredes</td>\n",
       "      <td>8a8b9b5aa5ac4c13dd7220d856119e3916148622</td>\n",
       "      <td>/home/paredes/IdeaProjects/COVI-AgentSim/src/c...</td>\n",
       "      <td>LOCAL</td>\n",
       "      <td>None</td>\n",
       "    </tr>\n",
       "    <tr>\n",
       "      <th>2</th>\n",
       "      <td>e0b50a1816e04719aec58934d05fff83</td>\n",
       "      <td>0</td>\n",
       "      <td>FINISHED</td>\n",
       "      <td>file:///home/paredes/IdeaProjects/COVI-AgentSi...</td>\n",
       "      <td>2020-11-23 13:46:18.009000+00:00</td>\n",
       "      <td>2020-11-23 13:47:38.478000+00:00</td>\n",
       "      <td>NaN</td>\n",
       "      <td>paredes</td>\n",
       "      <td>8a8b9b5aa5ac4c13dd7220d856119e3916148622</td>\n",
       "      <td>/home/paredes/IdeaProjects/COVI-AgentSim/src/c...</td>\n",
       "      <td>LOCAL</td>\n",
       "      <td>None</td>\n",
       "    </tr>\n",
       "    <tr>\n",
       "      <th>3</th>\n",
       "      <td>8138bd34edbd41aa91c829cce57ce4b6</td>\n",
       "      <td>0</td>\n",
       "      <td>FINISHED</td>\n",
       "      <td>file:///home/paredes/IdeaProjects/COVI-AgentSi...</td>\n",
       "      <td>2020-11-23 13:31:09.056000+00:00</td>\n",
       "      <td>2020-11-23 13:31:35.491000+00:00</td>\n",
       "      <td>NaN</td>\n",
       "      <td>paredes</td>\n",
       "      <td>8a8b9b5aa5ac4c13dd7220d856119e3916148622</td>\n",
       "      <td>/home/paredes/IdeaProjects/COVI-AgentSim/src/c...</td>\n",
       "      <td>LOCAL</td>\n",
       "      <td>None</td>\n",
       "    </tr>\n",
       "  </tbody>\n",
       "</table>\n",
       "</div>"
      ],
      "text/plain": [
       "                             run_id experiment_id    status  \\\n",
       "0  0e30bd4e207f4a81be64fdb48d0c96a3             0   RUNNING   \n",
       "1  1b14f29b0aa64a53be0762ec8f9a8c25             0  FINISHED   \n",
       "2  e0b50a1816e04719aec58934d05fff83             0  FINISHED   \n",
       "3  8138bd34edbd41aa91c829cce57ce4b6             0  FINISHED   \n",
       "\n",
       "                                        artifact_uri  \\\n",
       "0  file:///home/paredes/IdeaProjects/COVI-AgentSi...   \n",
       "1  file:///home/paredes/IdeaProjects/COVI-AgentSi...   \n",
       "2  file:///home/paredes/IdeaProjects/COVI-AgentSi...   \n",
       "3  file:///home/paredes/IdeaProjects/COVI-AgentSi...   \n",
       "\n",
       "                        start_time                         end_time  \\\n",
       "0 2020-11-23 16:08:01.467000+00:00                              NaT   \n",
       "1 2020-11-23 15:56:07.175000+00:00 2020-11-23 15:57:43.842000+00:00   \n",
       "2 2020-11-23 13:46:18.009000+00:00 2020-11-23 13:47:38.478000+00:00   \n",
       "3 2020-11-23 13:31:09.056000+00:00 2020-11-23 13:31:35.491000+00:00   \n",
       "\n",
       "   metrics.total_deaths tags.mlflow.user  \\\n",
       "0                   0.0          paredes   \n",
       "1                   0.0          paredes   \n",
       "2                   NaN          paredes   \n",
       "3                   NaN          paredes   \n",
       "\n",
       "              tags.mlflow.source.git.commit  \\\n",
       "0  8a8b9b5aa5ac4c13dd7220d856119e3916148622   \n",
       "1  8a8b9b5aa5ac4c13dd7220d856119e3916148622   \n",
       "2  8a8b9b5aa5ac4c13dd7220d856119e3916148622   \n",
       "3  8a8b9b5aa5ac4c13dd7220d856119e3916148622   \n",
       "\n",
       "                             tags.mlflow.source.name tags.mlflow.source.type  \\\n",
       "0  /home/paredes/IdeaProjects/COVI-AgentSim/src/c...                   LOCAL   \n",
       "1  /home/paredes/IdeaProjects/COVI-AgentSim/src/c...                   LOCAL   \n",
       "2  /home/paredes/IdeaProjects/COVI-AgentSim/src/c...                   LOCAL   \n",
       "3  /home/paredes/IdeaProjects/COVI-AgentSim/src/c...                   LOCAL   \n",
       "\n",
       "                            tags.mlflow.note.content  \n",
       "0  I'm hoping a bigger population and longer tria...  \n",
       "1                                               None  \n",
       "2                                               None  \n",
       "3                                               None  "
      ]
     },
     "execution_count": 7,
     "metadata": {},
     "output_type": "execute_result"
    }
   ],
   "source": [
    "mlflow.search_runs()"
   ]
  },
  {
   "cell_type": "code",
   "execution_count": 8,
   "metadata": {},
   "outputs": [
    {
     "name": "stderr",
     "output_type": "stream",
     "text": [
      "/home/paredes/miniconda/envs/try_simpy/lib/python3.8/site-packages/ipykernel/ipkernel.py:287: DeprecationWarning: `should_run_async` will not call `transform_cell` automatically in the future. Please pass the result to `transformed_cell` argument and any exception that happen during thetransform in `preprocessing_exc_tuple` in IPython 7.17 and above.\n",
      "  and should_run_async(code)\n"
     ]
    }
   ],
   "source": [
    "df = mlflow.search_runs()"
   ]
  },
  {
   "cell_type": "code",
   "execution_count": 9,
   "metadata": {},
   "outputs": [
    {
     "ename": "FileNotFoundError",
     "evalue": "[Errno 2] No such file or directory: 'file:///home/paredes/IdeaProjects/COVI-AgentSim/src/covid19sim/mlruns/0/0e30bd4e207f4a81be64fdb48d0c96a3/artifacts'",
     "output_type": "error",
     "traceback": [
      "\u001b[0;31m---------------------------------------------------------------------------\u001b[0m",
      "\u001b[0;31mFileNotFoundError\u001b[0m                         Traceback (most recent call last)",
      "\u001b[0;32m<ipython-input-9-1f8c95db1089>\u001b[0m in \u001b[0;36m<module>\u001b[0;34m\u001b[0m\n\u001b[1;32m      1\u001b[0m \u001b[0;32mimport\u001b[0m \u001b[0mos\u001b[0m\u001b[0;34m\u001b[0m\u001b[0;34m\u001b[0m\u001b[0m\n\u001b[1;32m      2\u001b[0m \u001b[0;34m\u001b[0m\u001b[0m\n\u001b[0;32m----> 3\u001b[0;31m \u001b[0mos\u001b[0m\u001b[0;34m.\u001b[0m\u001b[0mlistdir\u001b[0m\u001b[0;34m(\u001b[0m\u001b[0mdf\u001b[0m\u001b[0;34m.\u001b[0m\u001b[0martifact_uri\u001b[0m\u001b[0;34m[\u001b[0m\u001b[0;36m0\u001b[0m\u001b[0;34m]\u001b[0m\u001b[0;34m)\u001b[0m\u001b[0;34m\u001b[0m\u001b[0;34m\u001b[0m\u001b[0m\n\u001b[0m",
      "\u001b[0;31mFileNotFoundError\u001b[0m: [Errno 2] No such file or directory: 'file:///home/paredes/IdeaProjects/COVI-AgentSim/src/covid19sim/mlruns/0/0e30bd4e207f4a81be64fdb48d0c96a3/artifacts'"
     ]
    }
   ],
   "source": [
    "import os\n",
    "\n",
    "os.listdir(df.artifact_uri[0])"
   ]
  },
  {
   "cell_type": "code",
   "execution_count": 10,
   "metadata": {},
   "outputs": [
    {
     "data": {
      "text/plain": [
       "['locations.csv']"
      ]
     },
     "execution_count": 10,
     "metadata": {},
     "output_type": "execute_result"
    }
   ],
   "source": [
    "os.listdir('mlruns/0/e0b50a1816e04719aec58934d05fff83/artifacts')"
   ]
  },
  {
   "cell_type": "code",
   "execution_count": 11,
   "metadata": {},
   "outputs": [],
   "source": [
    "import pandas as pd"
   ]
  },
  {
   "cell_type": "code",
   "execution_count": 12,
   "metadata": {},
   "outputs": [
    {
     "data": {
      "text/html": [
       "<div>\n",
       "<style scoped>\n",
       "    .dataframe tbody tr th:only-of-type {\n",
       "        vertical-align: middle;\n",
       "    }\n",
       "\n",
       "    .dataframe tbody tr th {\n",
       "        vertical-align: top;\n",
       "    }\n",
       "\n",
       "    .dataframe thead th {\n",
       "        text-align: right;\n",
       "    }\n",
       "</style>\n",
       "<table border=\"1\" class=\"dataframe\">\n",
       "  <thead>\n",
       "    <tr style=\"text-align: right;\">\n",
       "      <th></th>\n",
       "      <th>loc_type</th>\n",
       "      <th>lat</th>\n",
       "      <th>lon</th>\n",
       "    </tr>\n",
       "  </thead>\n",
       "  <tbody>\n",
       "    <tr>\n",
       "      <th>0</th>\n",
       "      <td>SENIOR_RESIDENCE</td>\n",
       "      <td>298</td>\n",
       "      <td>301</td>\n",
       "    </tr>\n",
       "    <tr>\n",
       "      <th>1</th>\n",
       "      <td>SENIOR_RESIDENCE</td>\n",
       "      <td>298</td>\n",
       "      <td>301</td>\n",
       "    </tr>\n",
       "    <tr>\n",
       "      <th>2</th>\n",
       "      <td>HOUSEHOLD</td>\n",
       "      <td>862</td>\n",
       "      <td>962</td>\n",
       "    </tr>\n",
       "    <tr>\n",
       "      <th>3</th>\n",
       "      <td>HOUSEHOLD</td>\n",
       "      <td>583</td>\n",
       "      <td>913</td>\n",
       "    </tr>\n",
       "    <tr>\n",
       "      <th>4</th>\n",
       "      <td>HOUSEHOLD</td>\n",
       "      <td>775</td>\n",
       "      <td>967</td>\n",
       "    </tr>\n",
       "    <tr>\n",
       "      <th>...</th>\n",
       "      <td>...</td>\n",
       "      <td>...</td>\n",
       "      <td>...</td>\n",
       "    </tr>\n",
       "    <tr>\n",
       "      <th>484</th>\n",
       "      <td>WORKPLACE</td>\n",
       "      <td>241</td>\n",
       "      <td>362</td>\n",
       "    </tr>\n",
       "    <tr>\n",
       "      <th>485</th>\n",
       "      <td>WORKPLACE</td>\n",
       "      <td>391</td>\n",
       "      <td>319</td>\n",
       "    </tr>\n",
       "    <tr>\n",
       "      <th>486</th>\n",
       "      <td>WORKPLACE</td>\n",
       "      <td>440</td>\n",
       "      <td>515</td>\n",
       "    </tr>\n",
       "    <tr>\n",
       "      <th>487</th>\n",
       "      <td>WORKPLACE</td>\n",
       "      <td>442</td>\n",
       "      <td>712</td>\n",
       "    </tr>\n",
       "    <tr>\n",
       "      <th>488</th>\n",
       "      <td>PARK</td>\n",
       "      <td>429</td>\n",
       "      <td>848</td>\n",
       "    </tr>\n",
       "  </tbody>\n",
       "</table>\n",
       "<p>489 rows × 3 columns</p>\n",
       "</div>"
      ],
      "text/plain": [
       "             loc_type  lat  lon\n",
       "0    SENIOR_RESIDENCE  298  301\n",
       "1    SENIOR_RESIDENCE  298  301\n",
       "2           HOUSEHOLD  862  962\n",
       "3           HOUSEHOLD  583  913\n",
       "4           HOUSEHOLD  775  967\n",
       "..                ...  ...  ...\n",
       "484         WORKPLACE  241  362\n",
       "485         WORKPLACE  391  319\n",
       "486         WORKPLACE  440  515\n",
       "487         WORKPLACE  442  712\n",
       "488              PARK  429  848\n",
       "\n",
       "[489 rows x 3 columns]"
      ]
     },
     "execution_count": 12,
     "metadata": {},
     "output_type": "execute_result"
    }
   ],
   "source": [
    "loc_df = pd.read_csv('mlruns/0/e0b50a1816e04719aec58934d05fff83/artifacts/locations.csv', names=['loc_type', 'lat', 'lon'])\n",
    "loc_df"
   ]
  },
  {
   "cell_type": "code",
   "execution_count": 39,
   "metadata": {},
   "outputs": [
    {
     "data": {
      "text/plain": [
       "999"
      ]
     },
     "execution_count": 39,
     "metadata": {},
     "output_type": "execute_result"
    }
   ],
   "source": [
    "min(loc_df.lat)\n",
    "max(loc_df.lat)"
   ]
  },
  {
   "cell_type": "code",
   "execution_count": 13,
   "metadata": {},
   "outputs": [
    {
     "name": "stderr",
     "output_type": "stream",
     "text": [
      "/home/paredes/miniconda/envs/try_simpy/lib/python3.8/site-packages/ipykernel/ipkernel.py:287: DeprecationWarning: `should_run_async` will not call `transform_cell` automatically in the future. Please pass the result to `transformed_cell` argument and any exception that happen during thetransform in `preprocessing_exc_tuple` in IPython 7.17 and above.\n",
      "  and should_run_async(code)\n"
     ]
    },
    {
     "data": {
      "text/plain": [
       "array(['SENIOR_RESIDENCE', 'HOUSEHOLD', 'SCHOOL', 'HOSPITAL', 'STORE',\n",
       "       'MISC', 'WORKPLACE', 'PARK'], dtype=object)"
      ]
     },
     "execution_count": 13,
     "metadata": {},
     "output_type": "execute_result"
    }
   ],
   "source": [
    "loc_df.loc_type.unique()"
   ]
  },
  {
   "cell_type": "code",
   "execution_count": 40,
   "metadata": {},
   "outputs": [
    {
     "data": {
      "text/plain": [
       "999"
      ]
     },
     "execution_count": 40,
     "metadata": {},
     "output_type": "execute_result"
    }
   ],
   "source": [
    "min(loc_df.lon)\n",
    "max(loc_df.lon)"
   ]
  },
  {
   "cell_type": "code",
   "execution_count": 3,
   "metadata": {},
   "outputs": [
    {
     "name": "stdout",
     "output_type": "stream",
     "text": [
      "Collecting seaborn\n",
      "  Using cached seaborn-0.11.0-py3-none-any.whl (283 kB)\n",
      "Collecting scipy>=1.0\n",
      "  Using cached scipy-1.5.4-cp38-cp38-manylinux1_x86_64.whl (25.8 MB)\n",
      "Requirement already satisfied: numpy>=1.15 in /home/paredes/miniconda/envs/try_simpy/lib/python3.8/site-packages (from seaborn) (1.19.4)\n",
      "Requirement already satisfied: pandas>=0.23 in /home/paredes/miniconda/envs/try_simpy/lib/python3.8/site-packages (from seaborn) (1.1.4)\n",
      "Requirement already satisfied: matplotlib>=2.2 in /home/paredes/miniconda/envs/try_simpy/lib/python3.8/site-packages (from seaborn) (3.3.3)\n",
      "Requirement already satisfied: python-dateutil>=2.7.3 in /home/paredes/miniconda/envs/try_simpy/lib/python3.8/site-packages (from pandas>=0.23->seaborn) (2.8.1)\n",
      "Requirement already satisfied: pytz>=2017.2 in /home/paredes/miniconda/envs/try_simpy/lib/python3.8/site-packages (from pandas>=0.23->seaborn) (2020.4)\n",
      "Requirement already satisfied: pillow>=6.2.0 in /home/paredes/miniconda/envs/try_simpy/lib/python3.8/site-packages (from matplotlib>=2.2->seaborn) (8.0.1)\n",
      "Requirement already satisfied: cycler>=0.10 in /home/paredes/miniconda/envs/try_simpy/lib/python3.8/site-packages (from matplotlib>=2.2->seaborn) (0.10.0)\n",
      "Requirement already satisfied: kiwisolver>=1.0.1 in /home/paredes/miniconda/envs/try_simpy/lib/python3.8/site-packages (from matplotlib>=2.2->seaborn) (1.3.1)\n",
      "Requirement already satisfied: pyparsing!=2.0.4,!=2.1.2,!=2.1.6,>=2.0.3 in /home/paredes/miniconda/envs/try_simpy/lib/python3.8/site-packages (from matplotlib>=2.2->seaborn) (2.4.7)\n",
      "Requirement already satisfied: six>=1.5 in /home/paredes/miniconda/envs/try_simpy/lib/python3.8/site-packages (from python-dateutil>=2.7.3->pandas>=0.23->seaborn) (1.15.0)\n",
      "Installing collected packages: scipy, seaborn\n",
      "Successfully installed scipy-1.5.4 seaborn-0.11.0\n"
     ]
    }
   ],
   "source": [
    "!pip install seaborn"
   ]
  },
  {
   "cell_type": "code",
   "execution_count": 14,
   "metadata": {},
   "outputs": [],
   "source": [
    "import seaborn as sns"
   ]
  },
  {
   "cell_type": "code",
   "execution_count": 18,
   "metadata": {},
   "outputs": [
    {
     "data": {
      "text/plain": [
       "<AxesSubplot:xlabel='lat', ylabel='lon'>"
      ]
     },
     "execution_count": 18,
     "metadata": {},
     "output_type": "execute_result"
    },
    {
     "data": {
      "image/png": "[encoded data removed]",
      "text/plain": [
       "<Figure size 432x288 with 1 Axes>"
      ]
     },
     "metadata": {
      "needs_background": "light"
     },
     "output_type": "display_data"
    }
   ],
   "source": [
    "sns.scatterplot('lat', 'lon', data=loc_df, hue=\"loc_type\")"
   ]
  },
  {
   "cell_type": "code",
   "execution_count": null,
   "metadata": {},
   "outputs": [],
   "source": []
  }
 ],
 "metadata": {
  "kernelspec": {
   "display_name": "Python 3",
   "language": "python",
   "name": "python3"
  },
  "language_info": {
   "codemirror_mode": {
    "name": "ipython",
    "version": 3
   },
   "file_extension": ".py",
   "mimetype": "text/x-python",
   "name": "python",
   "nbconvert_exporter": "python",
   "pygments_lexer": "ipython3",
   "version": "3.8.5"
  }
 },
 "nbformat": 4,
 "nbformat_minor": 4
}
